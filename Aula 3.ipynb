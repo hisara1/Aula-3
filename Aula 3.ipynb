{
 "cells": [
  {
   "cell_type": "code",
   "execution_count": 1,
   "metadata": {},
   "outputs": [],
   "source": [
    "# Introdução"
   ]
  },
  {
   "cell_type": "code",
   "execution_count": 3,
   "metadata": {},
   "outputs": [],
   "source": [
    "#Foi feita uma atividade em sala com calculo de half precision e como atividade de casa foi pedido 3 defs: half precision, single precision e double precision."
   ]
  },
  {
   "cell_type": "code",
   "execution_count": 4,
   "metadata": {},
   "outputs": [],
   "source": [
    "# Feito em sala"
   ]
  },
  {
   "cell_type": "code",
   "execution_count": 5,
   "metadata": {},
   "outputs": [
    {
     "name": "stdout",
     "output_type": "stream",
     "text": [
      "0 01101 0101010101 = 0.333251953125 ≈ 1/3\n",
      "0.333251953125\n"
     ]
    }
   ],
   "source": [
    "print('0 01101 0101010101 = 0.333251953125 ≈ 1/3')\n",
    "print(2**-2*(1+(2**-2+2**-4+2**-6+2**-8+2**-10)))"
   ]
  },
  {
   "cell_type": "code",
   "execution_count": 6,
   "metadata": {},
   "outputs": [],
   "source": [
    "# Half Precision"
   ]
  },
  {
   "cell_type": "code",
   "execution_count": 7,
   "metadata": {},
   "outputs": [
    {
     "name": "stdout",
     "output_type": "stream",
     "text": [
      "Normal\n",
      "0.333251953125\n"
     ]
    }
   ],
   "source": [
    "def numbformat(sin, exp, num):\n",
    "  #Encontro o bit de sinal\n",
    "  sinal = (-1)**int(sin)\n",
    "  #Defino o tamanho do expoente pra ser calculado o valor\n",
    "  aux = len(exp) -1\n",
    "  #Expoente inicializado\n",
    "  expoente = 0\n",
    "  for n in exp:\n",
    "    #Expoente faz a conversão do exp binario\n",
    "    expoente = expoente + int(n)*2**aux\n",
    "    #Verificação de norma\n",
    "    if(n=='1'):\n",
    "      norma = 1\n",
    "    else:\n",
    "      subnorma = 0\n",
    "    aux = aux -1\n",
    "  expoente = expoente - 15\n",
    "\n",
    "  #Encontrando o 1 a ser somado caso seja norma\n",
    "  aux = 1\n",
    "  numero = 0\n",
    "  for n in num:\n",
    "    if n == '1':\n",
    "      add = int(n)\n",
    "    numero = numero + int(n)*2**(-aux)\n",
    "    aux = aux + 1\n",
    "    \n",
    "  if norma == 1:\n",
    "    print(\"Normal\")\n",
    "    print(sinal*2**expoente*(add + numero))\n",
    "  elif subnorma == 0:\n",
    "    print(\"Subnormal\")\n",
    "    expoente = -14\n",
    "    print(sinal*2**expoente*(add + numero))\n",
    "\n",
    "numbformat('0','01101','0101010101')"
   ]
  },
  {
   "cell_type": "code",
   "execution_count": 8,
   "metadata": {},
   "outputs": [],
   "source": [
    "# Single Precision"
   ]
  },
  {
   "cell_type": "code",
   "execution_count": 9,
   "metadata": {},
   "outputs": [
    {
     "name": "stdout",
     "output_type": "stream",
     "text": [
      "0.3333333432674408\n"
     ]
    }
   ],
   "source": [
    "def numbformat(sin, exp, num):\n",
    "  #Encontro o bit de sinal\n",
    "  sinal = (-1)**int(sin)\n",
    "  #Defino o tamanho do expoente pra ser calculado o valor\n",
    "  aux = len(exp) -1\n",
    "  #Expoente inicializado\n",
    "  expoente = 0\n",
    "  for n in exp:\n",
    "    #Expoente faz a conversão do exp binario\n",
    "    expoente = expoente + int(n)*2**aux\n",
    "    #Verificação de norma\n",
    "    if(n=='1'):\n",
    "      norma = 1\n",
    "    else:\n",
    "      subnorma = 0\n",
    "    aux = aux -1\n",
    "  \n",
    "  #Encontrando o 1 a ser somado caso seja norma\n",
    "  aux = 1\n",
    "  numero = 0\n",
    "  for n in num:\n",
    "    if n == '1':\n",
    "      add = int(n)\n",
    "    numero = numero + int(n)*2**(-aux)\n",
    "    aux = aux + 1\n",
    "\n",
    "  if norma == 1:\n",
    "    expoente = expoente - 127\n",
    "    print(sinal*2**expoente*(add + numero))\n",
    "  elif subnorma == 0:\n",
    "    expoente = expoente - 126\n",
    "    print(sinal*2**expoente*(add + numero))\n",
    "\n",
    "\n",
    "numbformat('0','01111101','01010101010101010101011')"
   ]
  },
  {
   "cell_type": "code",
   "execution_count": 10,
   "metadata": {},
   "outputs": [],
   "source": [
    "# Double Precision"
   ]
  },
  {
   "cell_type": "code",
   "execution_count": 11,
   "metadata": {},
   "outputs": [
    {
     "name": "stdout",
     "output_type": "stream",
     "text": [
      "0.3333333333333333\n"
     ]
    }
   ],
   "source": [
    "def numbformat(sin, exp, num):\n",
    "  #Encontro o bit de sinal\n",
    "  sinal = (-1)**int(sin)\n",
    "  #Defino o tamanho do expoente pra ser calculado o valor\n",
    "  aux = len(exp) -1\n",
    "  #Expoente inicializado\n",
    "  expoente = 0\n",
    "  for n in exp:\n",
    "    #Expoente faz a conversão do exp binario\n",
    "    expoente = expoente + int(n)*2**aux\n",
    "    #Verificação de norma\n",
    "    if(n=='1'):\n",
    "      norma = 1\n",
    "    else:\n",
    "      subnorma = 0\n",
    "    aux = aux -1\n",
    "\n",
    "  #Encontrando o 1 a ser somado caso seja norma\n",
    "  aux = 1\n",
    "  numero = 0\n",
    "  for n in num:\n",
    "    if n == '1':\n",
    "      add = int(n)\n",
    "    numero = numero + int(n)*2**(-aux)\n",
    "    aux = aux + 1\n",
    "\n",
    "  if norma == 1:\n",
    "    expoente = expoente - 1023\n",
    "    print(sinal*2**expoente*(add + numero))\n",
    "  elif subnorma == 0:\n",
    "    expoente = expoente - 1022\n",
    "    print(sinal*2**expoente*(add + numero))\n",
    "\n",
    "numbformat('0','01111111101','0101010101010101010101010101010101010101010101010101')"
   ]
  },
  {
   "cell_type": "code",
   "execution_count": null,
   "metadata": {},
   "outputs": [],
   "source": []
  }
 ],
 "metadata": {
  "kernelspec": {
   "display_name": "Python 3",
   "language": "python",
   "name": "python3"
  },
  "language_info": {
   "codemirror_mode": {
    "name": "ipython",
    "version": 3
   },
   "file_extension": ".py",
   "mimetype": "text/x-python",
   "name": "python",
   "nbconvert_exporter": "python",
   "pygments_lexer": "ipython3",
   "version": "3.6.5"
  }
 },
 "nbformat": 4,
 "nbformat_minor": 2
}
